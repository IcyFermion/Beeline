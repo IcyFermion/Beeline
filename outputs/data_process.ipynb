{
 "metadata": {
  "language_info": {
   "codemirror_mode": {
    "name": "ipython",
    "version": 3
   },
   "file_extension": ".py",
   "mimetype": "text/x-python",
   "name": "python",
   "nbconvert_exporter": "python",
   "pygments_lexer": "ipython3",
   "version": "3.8.5"
  },
  "orig_nbformat": 2,
  "kernelspec": {
   "name": "python385jvsc74a57bd09475d82786a7c9fb04fc22e82ed6d402850d2fab117438208280386913bcb268",
   "display_name": "Python 3.8.5 64-bit ('base': conda)"
  }
 },
 "nbformat": 4,
 "nbformat_minor": 2,
 "cells": [
  {
   "cell_type": "code",
   "execution_count": 1,
   "metadata": {},
   "outputs": [],
   "source": [
    "import numpy as np\n",
    "import pandas as pd\n",
    "from tqdm import tqdm \n",
    "import os"
   ]
  },
  {
   "cell_type": "code",
   "execution_count": 2,
   "metadata": {},
   "outputs": [],
   "source": [
    "all_dir = [x[0] for x in os.walk('.')]\n",
    "set_dirs = []\n",
    "for dir in all_dir:\n",
    "    if len(dir.split('/')) == 3:\n",
    "        set_dirs.append(dir)"
   ]
  },
  {
   "cell_type": "code",
   "execution_count": 9,
   "metadata": {},
   "outputs": [
    {
     "output_type": "stream",
     "name": "stderr",
     "text": [
      "100%|██████████| 10/10 [00:09<00:00,  1.00it/s]\n",
      "100%|██████████| 100/100 [00:21<00:00,  4.68it/s]\n",
      "100%|██████████| 10/10 [00:09<00:00,  1.01it/s]\n",
      "100%|██████████| 100/100 [00:21<00:00,  4.69it/s]\n",
      "100%|██████████| 10/10 [00:09<00:00,  1.01it/s]\n",
      "100%|██████████| 100/100 [00:21<00:00,  4.70it/s]\n",
      "100%|██████████| 10/10 [00:09<00:00,  1.01it/s]\n",
      "100%|██████████| 100/100 [00:21<00:00,  4.71it/s]\n",
      "100%|██████████| 10/10 [00:09<00:00,  1.01it/s]\n",
      "100%|██████████| 100/100 [00:21<00:00,  4.71it/s]\n",
      "100%|██████████| 10/10 [00:08<00:00,  1.16it/s]\n",
      "0it [00:00, ?it/s]\n",
      "100%|██████████| 10/10 [00:09<00:00,  1.02it/s]\n",
      "100%|██████████| 100/100 [00:21<00:00,  4.72it/s]\n",
      "100%|██████████| 10/10 [00:09<00:00,  1.02it/s]\n",
      "100%|██████████| 100/100 [00:21<00:00,  4.70it/s]\n",
      "100%|██████████| 10/10 [00:09<00:00,  1.01it/s]\n",
      "100%|██████████| 100/100 [00:21<00:00,  4.69it/s]\n",
      "100%|██████████| 10/10 [00:09<00:00,  1.01it/s]\n",
      "100%|██████████| 100/100 [00:21<00:00,  4.69it/s]\n",
      "100%|██████████| 10/10 [00:02<00:00,  4.02it/s]\n",
      "100%|██████████| 50/50 [00:04<00:00, 10.08it/s]\n",
      "100%|██████████| 10/10 [00:02<00:00,  4.00it/s]\n",
      "100%|██████████| 50/50 [00:04<00:00, 10.02it/s]\n",
      "100%|██████████| 10/10 [00:02<00:00,  3.94it/s]\n",
      "100%|██████████| 50/50 [00:05<00:00,  9.95it/s]\n",
      "100%|██████████| 10/10 [00:02<00:00,  3.99it/s]\n",
      "100%|██████████| 50/50 [00:04<00:00, 10.02it/s]\n",
      "100%|██████████| 10/10 [00:02<00:00,  3.96it/s]\n",
      "100%|██████████| 50/50 [00:04<00:00, 10.10it/s]\n"
     ]
    }
   ],
   "source": [
    "for set_dir in set_dirs:\n",
    "    algo_paths = [f.path for f in os.scandir(set_dir) if f.is_dir()]\n",
    "    result_files = [path + '/rankedEdges.csv' for path in algo_paths]\n",
    "    algo_names = [path.split('/')[3] for path in algo_paths]\n",
    "    matrix_list = []\n",
    "    target_df = pd.read_csv(set_dir + '/target_edges.csv')\n",
    "    target_edge_set = set()\n",
    "    for index, row in target_df.iterrows():\n",
    "        target_edge_set.add(row['regulator']+'_'+row['target'])        \n",
    "    ensemble_df = pd.DataFrame(columns=['edge_name'] + algo_names + ['edge_exist'])\n",
    "    for result_file in tqdm(result_files):\n",
    "        df = pd.read_csv(result_file, sep='\\t')\n",
    "        tf_set = set(df['Gene1'])\n",
    "        gene_set = set(df['Gene2'])\n",
    "        matrix = pd.DataFrame(0.0, index=gene_set, columns=tf_set)\n",
    "        for index, row in df.iterrows():\n",
    "            matrix.at[row['Gene2'], row['Gene1']] = np.abs(row['EdgeWeight'])\n",
    "        matrix_list.append(matrix)\n",
    "    for regulator_name in tqdm(tf_set):\n",
    "        for target_name in gene_set:\n",
    "            edge_name = regulator_name + '_' + target_name\n",
    "            score_list = [matrix.loc[target_name][regulator_name] for matrix in matrix_list]\n",
    "            edge_exist = 0\n",
    "            if edge_name in target_edge_set:\n",
    "                edge_exist = 1\n",
    "            ensemble_df = ensemble_df.append(pd.DataFrame([[edge_name]+ score_list + [edge_exist]], columns=['edge_name'] + algo_names + ['edge_exist']), ignore_index=True)\n",
    "    ensemble_df = ensemble_df.astype({'edge_exist': 'int8'})\n",
    "    ensemble_df.to_csv(set_dir + '/ensemble.csv', index=False)"
   ]
  },
  {
   "cell_type": "code",
   "execution_count": null,
   "metadata": {},
   "outputs": [],
   "source": []
  }
 ]
}